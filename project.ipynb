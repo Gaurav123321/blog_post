{
 "cells": [
  {
   "cell_type": "markdown",
   "metadata": {},
   "source": [
    "\n",
    "# IMPORTING NECCESSARY LIBRARIES \n",
    "\n",
    "Importing preprocess ,it is a another file where i defined and execute all the main functions "
   ]
  },
  {
   "cell_type": "code",
   "execution_count": null,
   "metadata": {},
   "outputs": [
    {
     "name": "stdout",
     "output_type": "stream",
     "text": [
      "Processing complete! Images saved.\n"
     ]
    }
   ],
   "source": [
    "import preprocess\n",
    "import classify\n",
    "import numpy as np\n",
    "from PIL import Image\n",
    "import cv2\n",
    "\n"
   ]
  },
  {
   "cell_type": "markdown",
   "metadata": {},
   "source": [
    "# DEFINING THE IMAGE PATH"
   ]
  },
  {
   "cell_type": "code",
   "execution_count": null,
   "metadata": {},
   "outputs": [],
   "source": [
    "# Define the image file name\n",
    "image_path = \"input.jpeg\" \n"
   ]
  },
  {
   "cell_type": "markdown",
   "metadata": {},
   "source": [
    " # PREPROCESSING THE IMAGE "
   ]
  },
  {
   "cell_type": "code",
   "execution_count": null,
   "metadata": {},
   "outputs": [],
   "source": [
    "def preprocess_img(image_path):\n",
    "    img = cv2.imread(image_path)  # Read image using OpenCV\n",
    "    result_img, transitional_imgs, components, rects = preprocess.driver_preprocess(img)\n",
    "    return result_img, transitional_imgs, components, rects\n"
   ]
  },
  {
   "cell_type": "markdown",
   "metadata": {},
   "source": [
    "# CLASSIFYING THE COMPONENT"
   ]
  },
  {
   "cell_type": "code",
   "execution_count": null,
   "metadata": {},
   "outputs": [],
   "source": [
    "def classify_components(list_comp, image_path, rects):\n",
    "    \"\"\"Loads an image and classifies detected components.\"\"\"\n",
    "    img = np.array(Image.open(image_path))  # Open image using PIL\n",
    "    classified, annotated_img = classify.driver_classify(list_comp, img, rects)\n",
    "    return classified, annotated_img"
   ]
  },
  {
   "cell_type": "markdown",
   "metadata": {},
   "source": [
    "# MAIN FILE "
   ]
  },
  {
   "cell_type": "code",
   "execution_count": 7,
   "metadata": {},
   "outputs": [
    {
     "name": "stdout",
     "output_type": "stream",
     "text": [
      "Processing complete! Images saved.\n"
     ]
    }
   ],
   "source": [
    "def main():\n",
    "    # Step 1: Preprocess the image\n",
    "    result_img, transitional_imgs, components, rects = preprocess_img(image_path)\n",
    "\n",
    "    # Step 2: Classify the detected components\n",
    "    #classified, annotated_img = classify_components(components, IMAGE_PATH, rects)\n",
    "\n",
    "    # Step 3: Save and show results\n",
    "    cv2.imwrite(\"processed_circuit.jpg\", result_img)\n",
    "   # cv2.imwrite(\"annotated_circuit.jpg\", annotated_img)\n",
    "    print(\"Processing complete! Images saved.\")\n",
    "\n",
    "if __name__ == '__main__':\n",
    "    main()"
   ]
  },
  {
   "cell_type": "markdown",
   "metadata": {},
   "source": [
    "NOW the image which is preprocessed gets saved "
   ]
  }
 ],
 "metadata": {
  "kernelspec": {
   "display_name": "gaurav",
   "language": "python",
   "name": "python3"
  },
  "language_info": {
   "codemirror_mode": {
    "name": "ipython",
    "version": 3
   },
   "file_extension": ".py",
   "mimetype": "text/x-python",
   "name": "python",
   "nbconvert_exporter": "python",
   "pygments_lexer": "ipython3",
   "version": "3.13.1"
  }
 },
 "nbformat": 4,
 "nbformat_minor": 2
}
